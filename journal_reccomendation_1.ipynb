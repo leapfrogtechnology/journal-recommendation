{
 "cells": [
  {
   "cell_type": "markdown",
   "metadata": {},
   "source": [
    "# 1. Importing libraries and dataset "
   ]
  },
  {
   "cell_type": "code",
   "execution_count": 24,
   "metadata": {},
   "outputs": [],
   "source": [
    "import pandas as pd \n",
    "import numpy as np\n",
    "from nltk.tokenize import word_tokenize\n",
    "from nltk.stem import WordNetLemmatizer\n",
    "import re\n",
    "from nltk.corpus import stopwords\n",
    "import warnings"
   ]
  },
  {
   "cell_type": "code",
   "execution_count": 3,
   "metadata": {},
   "outputs": [],
   "source": [
    "data_df=pd.read_csv(\"nips-papers/papers.csv\")"
   ]
  },
  {
   "cell_type": "code",
   "execution_count": 4,
   "metadata": {},
   "outputs": [],
   "source": [
    "data_df.drop(['pdf_name','event_type'],axis=1,inplace=True)"
   ]
  },
  {
   "cell_type": "code",
   "execution_count": 5,
   "metadata": {},
   "outputs": [],
   "source": [
    "author_df = pd.read_csv('nips-papers/authors.csv')"
   ]
  },
  {
   "cell_type": "code",
   "execution_count": 6,
   "metadata": {},
   "outputs": [],
   "source": [
    "data_df['title'] = data_df['title'].map(lambda x: x.lower())"
   ]
  },
  {
   "cell_type": "code",
   "execution_count": 7,
   "metadata": {},
   "outputs": [
    {
     "data": {
      "text/html": [
       "<div>\n",
       "<style scoped>\n",
       "    .dataframe tbody tr th:only-of-type {\n",
       "        vertical-align: middle;\n",
       "    }\n",
       "\n",
       "    .dataframe tbody tr th {\n",
       "        vertical-align: top;\n",
       "    }\n",
       "\n",
       "    .dataframe thead th {\n",
       "        text-align: right;\n",
       "    }\n",
       "</style>\n",
       "<table border=\"1\" class=\"dataframe\">\n",
       "  <thead>\n",
       "    <tr style=\"text-align: right;\">\n",
       "      <th></th>\n",
       "      <th>id</th>\n",
       "      <th>year</th>\n",
       "      <th>title</th>\n",
       "      <th>abstract</th>\n",
       "      <th>paper_text</th>\n",
       "    </tr>\n",
       "  </thead>\n",
       "  <tbody>\n",
       "    <tr>\n",
       "      <th>0</th>\n",
       "      <td>1</td>\n",
       "      <td>1987</td>\n",
       "      <td>self-organization of associative database and ...</td>\n",
       "      <td>Abstract Missing</td>\n",
       "      <td>767\\n\\nSELF-ORGANIZATION OF ASSOCIATIVE DATABA...</td>\n",
       "    </tr>\n",
       "    <tr>\n",
       "      <th>1</th>\n",
       "      <td>10</td>\n",
       "      <td>1987</td>\n",
       "      <td>a mean field theory of layer iv of visual cort...</td>\n",
       "      <td>Abstract Missing</td>\n",
       "      <td>683\\n\\nA MEAN FIELD THEORY OF LAYER IV OF VISU...</td>\n",
       "    </tr>\n",
       "    <tr>\n",
       "      <th>2</th>\n",
       "      <td>100</td>\n",
       "      <td>1988</td>\n",
       "      <td>storing covariance by the associative long-ter...</td>\n",
       "      <td>Abstract Missing</td>\n",
       "      <td>394\\n\\nSTORING COVARIANCE BY THE ASSOCIATIVE\\n...</td>\n",
       "    </tr>\n",
       "    <tr>\n",
       "      <th>3</th>\n",
       "      <td>1000</td>\n",
       "      <td>1994</td>\n",
       "      <td>bayesian query construction for neural network...</td>\n",
       "      <td>Abstract Missing</td>\n",
       "      <td>Bayesian Query Construction for Neural\\nNetwor...</td>\n",
       "    </tr>\n",
       "    <tr>\n",
       "      <th>4</th>\n",
       "      <td>1001</td>\n",
       "      <td>1994</td>\n",
       "      <td>neural network ensembles, cross validation, an...</td>\n",
       "      <td>Abstract Missing</td>\n",
       "      <td>Neural Network Ensembles, Cross\\nValidation, a...</td>\n",
       "    </tr>\n",
       "  </tbody>\n",
       "</table>\n",
       "</div>"
      ],
      "text/plain": [
       "     id  year                                              title  \\\n",
       "0     1  1987  self-organization of associative database and ...   \n",
       "1    10  1987  a mean field theory of layer iv of visual cort...   \n",
       "2   100  1988  storing covariance by the associative long-ter...   \n",
       "3  1000  1994  bayesian query construction for neural network...   \n",
       "4  1001  1994  neural network ensembles, cross validation, an...   \n",
       "\n",
       "           abstract                                         paper_text  \n",
       "0  Abstract Missing  767\\n\\nSELF-ORGANIZATION OF ASSOCIATIVE DATABA...  \n",
       "1  Abstract Missing  683\\n\\nA MEAN FIELD THEORY OF LAYER IV OF VISU...  \n",
       "2  Abstract Missing  394\\n\\nSTORING COVARIANCE BY THE ASSOCIATIVE\\n...  \n",
       "3  Abstract Missing  Bayesian Query Construction for Neural\\nNetwor...  \n",
       "4  Abstract Missing  Neural Network Ensembles, Cross\\nValidation, a...  "
      ]
     },
     "execution_count": 7,
     "metadata": {},
     "output_type": "execute_result"
    }
   ],
   "source": [
    "data_df.head()"
   ]
  },
  {
   "cell_type": "code",
   "execution_count": 8,
   "metadata": {},
   "outputs": [
    {
     "data": {
      "text/html": [
       "<div>\n",
       "<style scoped>\n",
       "    .dataframe tbody tr th:only-of-type {\n",
       "        vertical-align: middle;\n",
       "    }\n",
       "\n",
       "    .dataframe tbody tr th {\n",
       "        vertical-align: top;\n",
       "    }\n",
       "\n",
       "    .dataframe thead th {\n",
       "        text-align: right;\n",
       "    }\n",
       "</style>\n",
       "<table border=\"1\" class=\"dataframe\">\n",
       "  <thead>\n",
       "    <tr style=\"text-align: right;\">\n",
       "      <th></th>\n",
       "      <th>id</th>\n",
       "      <th>name</th>\n",
       "    </tr>\n",
       "  </thead>\n",
       "  <tbody>\n",
       "    <tr>\n",
       "      <th>0</th>\n",
       "      <td>1</td>\n",
       "      <td>Hisashi Suzuki</td>\n",
       "    </tr>\n",
       "    <tr>\n",
       "      <th>1</th>\n",
       "      <td>10</td>\n",
       "      <td>David Brady</td>\n",
       "    </tr>\n",
       "    <tr>\n",
       "      <th>2</th>\n",
       "      <td>100</td>\n",
       "      <td>Santosh S. Venkatesh</td>\n",
       "    </tr>\n",
       "    <tr>\n",
       "      <th>3</th>\n",
       "      <td>1000</td>\n",
       "      <td>Charles Fefferman</td>\n",
       "    </tr>\n",
       "    <tr>\n",
       "      <th>4</th>\n",
       "      <td>10000</td>\n",
       "      <td>Artur Speiser</td>\n",
       "    </tr>\n",
       "  </tbody>\n",
       "</table>\n",
       "</div>"
      ],
      "text/plain": [
       "      id                  name\n",
       "0      1        Hisashi Suzuki\n",
       "1     10           David Brady\n",
       "2    100  Santosh S. Venkatesh\n",
       "3   1000     Charles Fefferman\n",
       "4  10000         Artur Speiser"
      ]
     },
     "execution_count": 8,
     "metadata": {},
     "output_type": "execute_result"
    }
   ],
   "source": [
    "author_df.head()"
   ]
  },
  {
   "cell_type": "markdown",
   "metadata": {},
   "source": [
    "# 2. Processing the text "
   ]
  },
  {
   "cell_type": "code",
   "execution_count": 9,
   "metadata": {},
   "outputs": [],
   "source": [
    "def text_processing(df,col):\n",
    "    temp_df = df[col]\n",
    "    # 1.Remove punctuation\n",
    "    temp_df = temp_df.apply(lambda x: re.sub('[[^a-zA-Z]]',' ',x))\n",
    "    # 2. converting lower case\n",
    "    temp_df = temp_df.apply(lambda x: x.lower())\n",
    "    # 3. removing special character and digit\n",
    "    temp_df = temp_df.apply(lambda x: re.sub(\"(\\\\d|\\\\W)+\",\" \",x))\n",
    "    # 4. removing the single letter word\n",
    "    temp_df = temp_df.apply(lambda x: re.sub(r\"\\b[a-zA-Z]\\b\", \"\",x))\n",
    "    return temp_df"
   ]
  },
  {
   "cell_type": "code",
   "execution_count": 10,
   "metadata": {},
   "outputs": [],
   "source": [
    "data_df['paper_text'] = text_processing(data_df,'paper_text')"
   ]
  },
  {
   "cell_type": "code",
   "execution_count": 11,
   "metadata": {},
   "outputs": [],
   "source": [
    "def tokenize_lemmatize(df,col):\n",
    "    temp_df =df[col]\n",
    "    #1. Word Tokenization:\n",
    "    temp_df = temp_df.apply(lambda x : word_tokenize(x))\n",
    "    word_no_pre = temp_df.apply(lambda x: len(x))\n",
    "    temp_df = temp_df.apply(lambda x : [i for i in x if not i in stopwords.words('english')])\n",
    "    #2. Word Lemmatization:\n",
    "    lemmatize =WordNetLemmatizer()\n",
    "    temp_df = temp_df.apply(lambda x: [lemmatize.lemmatize(i) for i in x])\n",
    "    word_no_post =temp_df.apply(lambda x: len(x))\n",
    "    temp_df = temp_df.apply(lambda x: \" \".join(x))\n",
    "    return temp_df,word_no_pre,word_no_post"
   ]
  },
  {
   "cell_type": "code",
   "execution_count": 12,
   "metadata": {},
   "outputs": [],
   "source": [
    "data_df['text'],data_df['word_count_pre'],data_df['word_count_post']=tokenize_lemmatize(data_df,'paper_text')"
   ]
  },
  {
   "cell_type": "code",
   "execution_count": 13,
   "metadata": {},
   "outputs": [
    {
     "data": {
      "text/html": [
       "<div>\n",
       "<style scoped>\n",
       "    .dataframe tbody tr th:only-of-type {\n",
       "        vertical-align: middle;\n",
       "    }\n",
       "\n",
       "    .dataframe tbody tr th {\n",
       "        vertical-align: top;\n",
       "    }\n",
       "\n",
       "    .dataframe thead th {\n",
       "        text-align: right;\n",
       "    }\n",
       "</style>\n",
       "<table border=\"1\" class=\"dataframe\">\n",
       "  <thead>\n",
       "    <tr style=\"text-align: right;\">\n",
       "      <th></th>\n",
       "      <th>id</th>\n",
       "      <th>year</th>\n",
       "      <th>title</th>\n",
       "      <th>abstract</th>\n",
       "      <th>paper_text</th>\n",
       "      <th>text</th>\n",
       "      <th>word_count_pre</th>\n",
       "      <th>word_count_post</th>\n",
       "    </tr>\n",
       "  </thead>\n",
       "  <tbody>\n",
       "    <tr>\n",
       "      <th>0</th>\n",
       "      <td>1</td>\n",
       "      <td>1987</td>\n",
       "      <td>self-organization of associative database and ...</td>\n",
       "      <td>Abstract Missing</td>\n",
       "      <td>self organization of associative database and...</td>\n",
       "      <td>self organization associative database applica...</td>\n",
       "      <td>3068</td>\n",
       "      <td>1830</td>\n",
       "    </tr>\n",
       "    <tr>\n",
       "      <th>1</th>\n",
       "      <td>10</td>\n",
       "      <td>1987</td>\n",
       "      <td>a mean field theory of layer iv of visual cort...</td>\n",
       "      <td>Abstract Missing</td>\n",
       "      <td>mean field theory of layer iv of visual cort...</td>\n",
       "      <td>mean field theory layer iv visual cortex appli...</td>\n",
       "      <td>2268</td>\n",
       "      <td>1320</td>\n",
       "    </tr>\n",
       "    <tr>\n",
       "      <th>2</th>\n",
       "      <td>100</td>\n",
       "      <td>1988</td>\n",
       "      <td>storing covariance by the associative long-ter...</td>\n",
       "      <td>Abstract Missing</td>\n",
       "      <td>storing covariance by the associative long te...</td>\n",
       "      <td>storing covariance associative long term poten...</td>\n",
       "      <td>2703</td>\n",
       "      <td>1834</td>\n",
       "    </tr>\n",
       "    <tr>\n",
       "      <th>3</th>\n",
       "      <td>1000</td>\n",
       "      <td>1994</td>\n",
       "      <td>bayesian query construction for neural network...</td>\n",
       "      <td>Abstract Missing</td>\n",
       "      <td>bayesian query construction for neural network...</td>\n",
       "      <td>bayesian query construction neural network mod...</td>\n",
       "      <td>2560</td>\n",
       "      <td>1672</td>\n",
       "    </tr>\n",
       "    <tr>\n",
       "      <th>4</th>\n",
       "      <td>1001</td>\n",
       "      <td>1994</td>\n",
       "      <td>neural network ensembles, cross validation, an...</td>\n",
       "      <td>Abstract Missing</td>\n",
       "      <td>neural network ensembles cross validation and ...</td>\n",
       "      <td>neural network ensemble cross validation activ...</td>\n",
       "      <td>2983</td>\n",
       "      <td>1663</td>\n",
       "    </tr>\n",
       "  </tbody>\n",
       "</table>\n",
       "</div>"
      ],
      "text/plain": [
       "     id  year                                              title  \\\n",
       "0     1  1987  self-organization of associative database and ...   \n",
       "1    10  1987  a mean field theory of layer iv of visual cort...   \n",
       "2   100  1988  storing covariance by the associative long-ter...   \n",
       "3  1000  1994  bayesian query construction for neural network...   \n",
       "4  1001  1994  neural network ensembles, cross validation, an...   \n",
       "\n",
       "           abstract                                         paper_text  \\\n",
       "0  Abstract Missing   self organization of associative database and...   \n",
       "1  Abstract Missing    mean field theory of layer iv of visual cort...   \n",
       "2  Abstract Missing   storing covariance by the associative long te...   \n",
       "3  Abstract Missing  bayesian query construction for neural network...   \n",
       "4  Abstract Missing  neural network ensembles cross validation and ...   \n",
       "\n",
       "                                                text  word_count_pre  \\\n",
       "0  self organization associative database applica...            3068   \n",
       "1  mean field theory layer iv visual cortex appli...            2268   \n",
       "2  storing covariance associative long term poten...            2703   \n",
       "3  bayesian query construction neural network mod...            2560   \n",
       "4  neural network ensemble cross validation activ...            2983   \n",
       "\n",
       "   word_count_post  \n",
       "0             1830  \n",
       "1             1320  \n",
       "2             1834  \n",
       "3             1672  \n",
       "4             1663  "
      ]
     },
     "execution_count": 13,
     "metadata": {},
     "output_type": "execute_result"
    }
   ],
   "source": [
    "data_df.head()"
   ]
  },
  {
   "cell_type": "markdown",
   "metadata": {},
   "source": [
    "# 3. Saving the processed data  "
   ]
  },
  {
   "cell_type": "code",
   "execution_count": 14,
   "metadata": {},
   "outputs": [],
   "source": [
    "def name_extraction(data,author):\n",
    "    name =[]\n",
    "    for data_id in data['id']:\n",
    "        try:\n",
    "            name.append(list(author[(author['id']==data_id)]['name'])[0])\n",
    "        except:\n",
    "            name.append(str('Author Missing'))\n",
    "            continue\n",
    "    return name"
   ]
  },
  {
   "cell_type": "code",
   "execution_count": 15,
   "metadata": {},
   "outputs": [],
   "source": [
    "author_name = name_extraction(data_df,author_df)"
   ]
  },
  {
   "cell_type": "code",
   "execution_count": 16,
   "metadata": {},
   "outputs": [],
   "source": [
    "data_df['author_name'] = pd.DataFrame(author_name)"
   ]
  },
  {
   "cell_type": "code",
   "execution_count": 17,
   "metadata": {},
   "outputs": [],
   "source": [
    "data_df.drop(['paper_text','abstract'],axis=1,inplace=True)"
   ]
  },
  {
   "cell_type": "code",
   "execution_count": 18,
   "metadata": {},
   "outputs": [
    {
     "data": {
      "text/html": [
       "<div>\n",
       "<style scoped>\n",
       "    .dataframe tbody tr th:only-of-type {\n",
       "        vertical-align: middle;\n",
       "    }\n",
       "\n",
       "    .dataframe tbody tr th {\n",
       "        vertical-align: top;\n",
       "    }\n",
       "\n",
       "    .dataframe thead th {\n",
       "        text-align: right;\n",
       "    }\n",
       "</style>\n",
       "<table border=\"1\" class=\"dataframe\">\n",
       "  <thead>\n",
       "    <tr style=\"text-align: right;\">\n",
       "      <th></th>\n",
       "      <th>id</th>\n",
       "      <th>year</th>\n",
       "      <th>title</th>\n",
       "      <th>text</th>\n",
       "      <th>word_count_pre</th>\n",
       "      <th>word_count_post</th>\n",
       "      <th>author_name</th>\n",
       "    </tr>\n",
       "  </thead>\n",
       "  <tbody>\n",
       "    <tr>\n",
       "      <th>0</th>\n",
       "      <td>1</td>\n",
       "      <td>1987</td>\n",
       "      <td>self-organization of associative database and ...</td>\n",
       "      <td>self organization associative database applica...</td>\n",
       "      <td>3068</td>\n",
       "      <td>1830</td>\n",
       "      <td>Hisashi Suzuki</td>\n",
       "    </tr>\n",
       "    <tr>\n",
       "      <th>1</th>\n",
       "      <td>10</td>\n",
       "      <td>1987</td>\n",
       "      <td>a mean field theory of layer iv of visual cort...</td>\n",
       "      <td>mean field theory layer iv visual cortex appli...</td>\n",
       "      <td>2268</td>\n",
       "      <td>1320</td>\n",
       "      <td>David Brady</td>\n",
       "    </tr>\n",
       "    <tr>\n",
       "      <th>2</th>\n",
       "      <td>100</td>\n",
       "      <td>1988</td>\n",
       "      <td>storing covariance by the associative long-ter...</td>\n",
       "      <td>storing covariance associative long term poten...</td>\n",
       "      <td>2703</td>\n",
       "      <td>1834</td>\n",
       "      <td>Santosh S. Venkatesh</td>\n",
       "    </tr>\n",
       "    <tr>\n",
       "      <th>3</th>\n",
       "      <td>1000</td>\n",
       "      <td>1994</td>\n",
       "      <td>bayesian query construction for neural network...</td>\n",
       "      <td>bayesian query construction neural network mod...</td>\n",
       "      <td>2560</td>\n",
       "      <td>1672</td>\n",
       "      <td>Charles Fefferman</td>\n",
       "    </tr>\n",
       "    <tr>\n",
       "      <th>4</th>\n",
       "      <td>1001</td>\n",
       "      <td>1994</td>\n",
       "      <td>neural network ensembles, cross validation, an...</td>\n",
       "      <td>neural network ensemble cross validation activ...</td>\n",
       "      <td>2983</td>\n",
       "      <td>1663</td>\n",
       "      <td>Scott Markel</td>\n",
       "    </tr>\n",
       "    <tr>\n",
       "      <th>5</th>\n",
       "      <td>1002</td>\n",
       "      <td>1994</td>\n",
       "      <td>using a neural net to instantiate a deformable...</td>\n",
       "      <td>sing neural net instantiate deformable model c...</td>\n",
       "      <td>3304</td>\n",
       "      <td>1979</td>\n",
       "      <td>Gregory J. Wolff</td>\n",
       "    </tr>\n",
       "    <tr>\n",
       "      <th>6</th>\n",
       "      <td>1003</td>\n",
       "      <td>1994</td>\n",
       "      <td>plasticity-mediated competitive learning</td>\n",
       "      <td>plasticity mediated competitive learning terre...</td>\n",
       "      <td>1558</td>\n",
       "      <td>1014</td>\n",
       "      <td>Timothy W. Cacciatore</td>\n",
       "    </tr>\n",
       "    <tr>\n",
       "      <th>7</th>\n",
       "      <td>1004</td>\n",
       "      <td>1994</td>\n",
       "      <td>iceg morphology classification using an analog...</td>\n",
       "      <td>iceg morphology classification using analogue ...</td>\n",
       "      <td>2531</td>\n",
       "      <td>1635</td>\n",
       "      <td>Paul Sajda</td>\n",
       "    </tr>\n",
       "    <tr>\n",
       "      <th>8</th>\n",
       "      <td>1005</td>\n",
       "      <td>1994</td>\n",
       "      <td>real-time control of a tokamak plasma using ne...</td>\n",
       "      <td>real time control tokamak plasma using neural ...</td>\n",
       "      <td>2472</td>\n",
       "      <td>1560</td>\n",
       "      <td>Leif H. Finkel</td>\n",
       "    </tr>\n",
       "    <tr>\n",
       "      <th>9</th>\n",
       "      <td>1006</td>\n",
       "      <td>1994</td>\n",
       "      <td>pulsestream synapses with non-volatile analogu...</td>\n",
       "      <td>real time control tokamak plasma using neural ...</td>\n",
       "      <td>4334</td>\n",
       "      <td>2799</td>\n",
       "      <td>Arun K. Jagota</td>\n",
       "    </tr>\n",
       "  </tbody>\n",
       "</table>\n",
       "</div>"
      ],
      "text/plain": [
       "     id  year                                              title  \\\n",
       "0     1  1987  self-organization of associative database and ...   \n",
       "1    10  1987  a mean field theory of layer iv of visual cort...   \n",
       "2   100  1988  storing covariance by the associative long-ter...   \n",
       "3  1000  1994  bayesian query construction for neural network...   \n",
       "4  1001  1994  neural network ensembles, cross validation, an...   \n",
       "5  1002  1994  using a neural net to instantiate a deformable...   \n",
       "6  1003  1994           plasticity-mediated competitive learning   \n",
       "7  1004  1994  iceg morphology classification using an analog...   \n",
       "8  1005  1994  real-time control of a tokamak plasma using ne...   \n",
       "9  1006  1994  pulsestream synapses with non-volatile analogu...   \n",
       "\n",
       "                                                text  word_count_pre  \\\n",
       "0  self organization associative database applica...            3068   \n",
       "1  mean field theory layer iv visual cortex appli...            2268   \n",
       "2  storing covariance associative long term poten...            2703   \n",
       "3  bayesian query construction neural network mod...            2560   \n",
       "4  neural network ensemble cross validation activ...            2983   \n",
       "5  sing neural net instantiate deformable model c...            3304   \n",
       "6  plasticity mediated competitive learning terre...            1558   \n",
       "7  iceg morphology classification using analogue ...            2531   \n",
       "8  real time control tokamak plasma using neural ...            2472   \n",
       "9  real time control tokamak plasma using neural ...            4334   \n",
       "\n",
       "   word_count_post            author_name  \n",
       "0             1830         Hisashi Suzuki  \n",
       "1             1320            David Brady  \n",
       "2             1834   Santosh S. Venkatesh  \n",
       "3             1672      Charles Fefferman  \n",
       "4             1663           Scott Markel  \n",
       "5             1979       Gregory J. Wolff  \n",
       "6             1014  Timothy W. Cacciatore  \n",
       "7             1635             Paul Sajda  \n",
       "8             1560         Leif H. Finkel  \n",
       "9             2799         Arun K. Jagota  "
      ]
     },
     "execution_count": 18,
     "metadata": {},
     "output_type": "execute_result"
    }
   ],
   "source": [
    "data_df.head(10)"
   ]
  },
  {
   "cell_type": "markdown",
   "metadata": {},
   "source": [
    "# Detecting missing values "
   ]
  },
  {
   "cell_type": "code",
   "execution_count": 26,
   "metadata": {},
   "outputs": [],
   "source": [
    "data_df.fillna(np.nan,inplace=True)"
   ]
  },
  {
   "cell_type": "code",
   "execution_count": 27,
   "metadata": {},
   "outputs": [
    {
     "data": {
      "text/plain": [
       "id                 0\n",
       "year               0\n",
       "title              0\n",
       "text               0\n",
       "word_count_pre     0\n",
       "word_count_post    0\n",
       "author_name        0\n",
       "dtype: int64"
      ]
     },
     "execution_count": 27,
     "metadata": {},
     "output_type": "execute_result"
    }
   ],
   "source": [
    "data_df.isnull().sum()"
   ]
  },
  {
   "cell_type": "code",
   "execution_count": 28,
   "metadata": {},
   "outputs": [],
   "source": [
    "data_df.to_csv('process_data.csv',index=False)"
   ]
  },
  {
   "cell_type": "markdown",
   "metadata": {},
   "source": [
    "# Summary:\n",
    "* Firstly, importing the required libraries\n",
    "* Importing the dataset \n",
    "* Removing the unrequired columns and removing rows which has missing values\n",
    "* Removing punctuations,stopwords,whitespace and single letter word while processing the text\n",
    "* Tokenizing and lemmatizing the tword tokens \n",
    "* Count the words,extracting the author name and embedding the following information in the dataframe.\n",
    "* creating the CSV file to store the processed text"
   ]
  }
 ],
 "metadata": {
  "kernelspec": {
   "display_name": "Python 3",
   "language": "python",
   "name": "python3"
  },
  "language_info": {
   "codemirror_mode": {
    "name": "ipython",
    "version": 3
   },
   "file_extension": ".py",
   "mimetype": "text/x-python",
   "name": "python",
   "nbconvert_exporter": "python",
   "pygments_lexer": "ipython3",
   "version": "3.6.8"
  }
 },
 "nbformat": 4,
 "nbformat_minor": 2
}
