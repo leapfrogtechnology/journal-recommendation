{
 "cells": [
  {
   "cell_type": "markdown",
   "metadata": {},
   "source": [
    "# 1. Importing libraries and dataset "
   ]
  },
  {
   "cell_type": "code",
   "execution_count": 1,
   "metadata": {},
   "outputs": [],
   "source": [
    "import pandas as pd \n",
    "from nltk.tokenize import word_tokenize\n",
    "from nltk.stem import WordNetLemmatizer\n",
    "import re\n",
    "from nltk.corpus import stopwords\n",
    "import warnings"
   ]
  },
  {
   "cell_type": "code",
   "execution_count": 2,
   "metadata": {},
   "outputs": [],
   "source": [
    "data_df=pd.read_csv(\"nips-papers/papers.csv\")"
   ]
  },
  {
   "cell_type": "code",
   "execution_count": 3,
   "metadata": {},
   "outputs": [],
   "source": [
    "data_df.drop(['pdf_name','event_type'],axis=1,inplace=True)"
   ]
  },
  {
   "cell_type": "markdown",
   "metadata": {},
   "source": [
    "# 2. Processing the text "
   ]
  },
  {
   "cell_type": "code",
   "execution_count": 4,
   "metadata": {},
   "outputs": [],
   "source": [
    "def text_processing(df,col):\n",
    "    temp_df = df[col]\n",
    "    # 1.Remove punctuation\n",
    "    temp_df = temp_df.apply(lambda x: re.sub('[[^a-zA-Z]]',' ',x))\n",
    "    # 2. converting lower case\n",
    "    temp_df = temp_df.apply(lambda x: x.lower())\n",
    "    # 3. removing special character and digit\n",
    "    temp_df = temp_df.apply(lambda x: re.sub(\"(\\\\d|\\\\W)+\",\" \",x))\n",
    "    return temp_df"
   ]
  },
  {
   "cell_type": "code",
   "execution_count": 5,
   "metadata": {},
   "outputs": [],
   "source": [
    "data_df['paper_text'] = text_processing(data_df,'paper_text')"
   ]
  },
  {
   "cell_type": "code",
   "execution_count": 6,
   "metadata": {},
   "outputs": [],
   "source": [
    "def tokenize_lemmatize(df,col):\n",
    "    temp_df =df[col]\n",
    "    #1. Word Tokenization:\n",
    "    temp_df = temp_df.apply(lambda x : word_tokenize(x))\n",
    "    word_no_pre = temp_df.apply(lambda x: len(x))\n",
    "    temp_df = temp_df.apply(lambda x : [i for i in x if not i in stopwords.words('english')])\n",
    "    #2. Word Lemmatization:\n",
    "    lemmatize =WordNetLemmatizer()\n",
    "    temp_df = temp_df.apply(lambda x: [lemmatize.lemmatize(i) for i in x])\n",
    "    word_no_post =temp_df.apply(lambda x: len(x))\n",
    "    temp_df = temp_df.apply(lambda x: \" \".join(x))\n",
    "    return temp_df,word_no_pre,word_no_post"
   ]
  },
  {
   "cell_type": "code",
   "execution_count": 7,
   "metadata": {},
   "outputs": [],
   "source": [
    "data_df['text'],data_df['word_count_pre'],data_df['word_count_post']=tokenize_lemmatize(data_df,'paper_text')"
   ]
  },
  {
   "cell_type": "code",
   "execution_count": 14,
   "metadata": {},
   "outputs": [
    {
     "data": {
      "text/html": [
       "<div>\n",
       "<style scoped>\n",
       "    .dataframe tbody tr th:only-of-type {\n",
       "        vertical-align: middle;\n",
       "    }\n",
       "\n",
       "    .dataframe tbody tr th {\n",
       "        vertical-align: top;\n",
       "    }\n",
       "\n",
       "    .dataframe thead th {\n",
       "        text-align: right;\n",
       "    }\n",
       "</style>\n",
       "<table border=\"1\" class=\"dataframe\">\n",
       "  <thead>\n",
       "    <tr style=\"text-align: right;\">\n",
       "      <th></th>\n",
       "      <th>id</th>\n",
       "      <th>year</th>\n",
       "      <th>title</th>\n",
       "      <th>abstract</th>\n",
       "      <th>paper_text</th>\n",
       "      <th>text</th>\n",
       "      <th>word_count_pre</th>\n",
       "      <th>word_count_post</th>\n",
       "    </tr>\n",
       "  </thead>\n",
       "  <tbody>\n",
       "    <tr>\n",
       "      <th>0</th>\n",
       "      <td>1</td>\n",
       "      <td>1987</td>\n",
       "      <td>Self-Organization of Associative Database and ...</td>\n",
       "      <td>Abstract Missing</td>\n",
       "      <td>self organization of associative database and...</td>\n",
       "      <td>self organization associative database applica...</td>\n",
       "      <td>3539</td>\n",
       "      <td>2057</td>\n",
       "    </tr>\n",
       "    <tr>\n",
       "      <th>1</th>\n",
       "      <td>10</td>\n",
       "      <td>1987</td>\n",
       "      <td>A Mean Field Theory of Layer IV of Visual Cort...</td>\n",
       "      <td>Abstract Missing</td>\n",
       "      <td>a mean field theory of layer iv of visual cor...</td>\n",
       "      <td>mean field theory layer iv visual cortex appli...</td>\n",
       "      <td>2504</td>\n",
       "      <td>1417</td>\n",
       "    </tr>\n",
       "    <tr>\n",
       "      <th>2</th>\n",
       "      <td>100</td>\n",
       "      <td>1988</td>\n",
       "      <td>Storing Covariance by the Associative Long-Ter...</td>\n",
       "      <td>Abstract Missing</td>\n",
       "      <td>storing covariance by the associative long te...</td>\n",
       "      <td>storing covariance associative long term poten...</td>\n",
       "      <td>3003</td>\n",
       "      <td>1998</td>\n",
       "    </tr>\n",
       "    <tr>\n",
       "      <th>3</th>\n",
       "      <td>1000</td>\n",
       "      <td>1994</td>\n",
       "      <td>Bayesian Query Construction for Neural Network...</td>\n",
       "      <td>Abstract Missing</td>\n",
       "      <td>bayesian query construction for neural network...</td>\n",
       "      <td>bayesian query construction neural network mod...</td>\n",
       "      <td>3245</td>\n",
       "      <td>2070</td>\n",
       "    </tr>\n",
       "    <tr>\n",
       "      <th>4</th>\n",
       "      <td>1001</td>\n",
       "      <td>1994</td>\n",
       "      <td>Neural Network Ensembles, Cross Validation, an...</td>\n",
       "      <td>Abstract Missing</td>\n",
       "      <td>neural network ensembles cross validation and ...</td>\n",
       "      <td>neural network ensemble cross validation activ...</td>\n",
       "      <td>3242</td>\n",
       "      <td>1820</td>\n",
       "    </tr>\n",
       "  </tbody>\n",
       "</table>\n",
       "</div>"
      ],
      "text/plain": [
       "     id  year                                              title  \\\n",
       "0     1  1987  Self-Organization of Associative Database and ...   \n",
       "1    10  1987  A Mean Field Theory of Layer IV of Visual Cort...   \n",
       "2   100  1988  Storing Covariance by the Associative Long-Ter...   \n",
       "3  1000  1994  Bayesian Query Construction for Neural Network...   \n",
       "4  1001  1994  Neural Network Ensembles, Cross Validation, an...   \n",
       "\n",
       "           abstract                                         paper_text  \\\n",
       "0  Abstract Missing   self organization of associative database and...   \n",
       "1  Abstract Missing   a mean field theory of layer iv of visual cor...   \n",
       "2  Abstract Missing   storing covariance by the associative long te...   \n",
       "3  Abstract Missing  bayesian query construction for neural network...   \n",
       "4  Abstract Missing  neural network ensembles cross validation and ...   \n",
       "\n",
       "                                                text  word_count_pre  \\\n",
       "0  self organization associative database applica...            3539   \n",
       "1  mean field theory layer iv visual cortex appli...            2504   \n",
       "2  storing covariance associative long term poten...            3003   \n",
       "3  bayesian query construction neural network mod...            3245   \n",
       "4  neural network ensemble cross validation activ...            3242   \n",
       "\n",
       "   word_count_post  \n",
       "0             2057  \n",
       "1             1417  \n",
       "2             1998  \n",
       "3             2070  \n",
       "4             1820  "
      ]
     },
     "execution_count": 14,
     "metadata": {},
     "output_type": "execute_result"
    }
   ],
   "source": [
    "data_df.head()"
   ]
  },
  {
   "cell_type": "markdown",
   "metadata": {},
   "source": [
    "# 3. Saving the processed data  "
   ]
  },
  {
   "cell_type": "code",
   "execution_count": 16,
   "metadata": {},
   "outputs": [],
   "source": [
    "data_df.drop(['paper_text','abstract'],axis=1,inplace=True)"
   ]
  },
  {
   "cell_type": "code",
   "execution_count": 19,
   "metadata": {},
   "outputs": [],
   "source": [
    "data_df.to_csv('process_data.csv',index=False)"
   ]
  }
 ],
 "metadata": {
  "kernelspec": {
   "display_name": "Python 3",
   "language": "python",
   "name": "python3"
  },
  "language_info": {
   "codemirror_mode": {
    "name": "ipython",
    "version": 3
   },
   "file_extension": ".py",
   "mimetype": "text/x-python",
   "name": "python",
   "nbconvert_exporter": "python",
   "pygments_lexer": "ipython3",
   "version": "3.6.8"
  }
 },
 "nbformat": 4,
 "nbformat_minor": 2
}
